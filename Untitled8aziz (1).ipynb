{
 "cells": [
  {
   "cell_type": "markdown",
   "id": "dd5040ec-e43c-4679-a6d9-2954f79d0788",
   "metadata": {},
   "source": [
    "What are data structures, and why are they important\n",
    "\n",
    "Data structures in Python are ways of organizing and storing data so that it can be accessed and manipulated efficiently. Python provides a variety of built-in data structures that can be used to store collections of data, ranging from simple data types to more complex ones.\n",
    "\n",
    "1.\tLists:\n",
    "Definition: Ordered, mutable (changeable) collection of elements.\n",
    "Syntax: my_list = [1, 2, 3, 4]\n",
    "\n",
    "Tuples:\n",
    "Definition: Ordered, immutable collection of elements.\n",
    "Syntax: my_tuple = (1, 2, 3, 4)\n",
    "Useful when you need a fixed collection of data. Once created, elements cannot be modified (no append, remove, or change).\n",
    "\n",
    "Sets:\n",
    "\n",
    "Definition: Unordered collection of unique elements.\n",
    "Syntax: my_set = {1, 2, 3, 4}\n",
    "\n",
    "\n",
    "Data Structures Important because:\n",
    "\n",
    "•  Simplifies Complex Problems:\n",
    "•\tData structures provide a way to organize complex data, making it easier to perform operations such as sorting, searching, and transforming the data. They help in abstracting out complexity and making the code more readable.\n",
    "•  Problem Solving:\n",
    "•\tMany algorithms (such as sorting, searching, and graph traversal) rely on specific data structures. Mastery of data structures is essential for solving complex problems in programming and competitive coding.\n",
    "•  Memory Management:\n",
    "•\tSome data structures, such as arrays and linked lists, offer different ways of managing memory and handling dynamic resizing or memory allocation. Choosing the right data structure can save memory and make your program more efficient.\n",
    "•  Use in Real-World Applications:\n",
    "•\tData structures are foundational in creating systems such as databases, networking protocols, operating systems, and even simple applications like managing user lists or inventories. The efficiency of your data structure directly impacts the performance and scalability of your software.\n",
    "\n",
    "\n"
   ]
  },
  {
   "cell_type": "markdown",
   "id": "1b011661-abcf-4367-b040-cc62b6d24abe",
   "metadata": {},
   "source": [
    " Explain the difference between mutable and immutable data types with examples\n",
    "\n",
    " 1. Mutable Data Types\n",
    "Definition: A mutable data type is one whose value or contents can be changed or modified after the object is created.\n",
    "Example: Lists, dictionaries, sets, byte arrays.\n",
    "\n",
    "Characteristics:\n",
    "\n",
    "After the object is created, you can change its contents (add, remove, or modify elements).\n",
    "The object’s memory location doesn’t change when its contents are altered.\n",
    "\n",
    "Lists: Lists are mutable because you can modify their contents (add, remove, or change elements) after creation.\n",
    "\n",
    "\n"
   ]
  },
  {
   "cell_type": "code",
   "execution_count": 1,
   "id": "df49cf69-8f3f-4581-9c0a-9a8c6e23f0b8",
   "metadata": {},
   "outputs": [
    {
     "name": "stdout",
     "output_type": "stream",
     "text": [
      "[1, 4, 3]\n",
      "[1, 4, 3, 5]\n"
     ]
    }
   ],
   "source": [
    "my_list = [1, 2, 3]\n",
    "my_list[1] = 4  # Modify an element\n",
    "print(my_list)  \n",
    "my_list.append(5)  # Add an element\n",
    "print(my_list)  # Output: [1, 4, 3, 5]:"
   ]
  },
  {
   "cell_type": "markdown",
   "id": "3a79a0a3-4f13-4c28-a701-d67439029cb2",
   "metadata": {},
   "source": [
    "Dictionaries are mutable because you can add, modify, or delete key-value pairs after the dictionary is created.\n",
    "\n"
   ]
  },
  {
   "cell_type": "markdown",
   "id": "f9fc9561-dcfc-44c0-b2a9-7ac8c454dd22",
   "metadata": {},
   "source": [
    "my_dict = {'a': 1, 'b': 2}\n",
    "my_dict['b'] = 3  # Modify a value\n",
    "my_dict['c'] = 4  # Add a new key-value pair\n",
    "del my_dict['a']  # Delete a key-value pair\n",
    "print(my_dict)  "
   ]
  },
  {
   "cell_type": "markdown",
   "id": "25277f71-f3d5-44a8-b6fc-84fca5ddf3ef",
   "metadata": {},
   "source": [
    "Sets: Sets are mutable because you can add or remove elements."
   ]
  },
  {
   "cell_type": "code",
   "execution_count": 3,
   "id": "7a64dc7f-4957-45fb-a57d-7184be5fd6eb",
   "metadata": {},
   "outputs": [
    {
     "name": "stdout",
     "output_type": "stream",
     "text": [
      "{1, 3, 4}\n"
     ]
    }
   ],
   "source": [
    "my_set = {1, 2, 3}\n",
    "my_set.add(4)  # Add an element\n",
    "my_set.remove(2)  # Remove an element\n",
    "print(my_set)  # Output: {1, 3, 4}"
   ]
  },
  {
   "cell_type": "markdown",
   "id": "0567dc35-5eef-4fbf-9720-2e17d8217675",
   "metadata": {},
   "source": [
    "Immutable Data Types\n",
    "\n",
    "Definition: An immutable data type is one whose value or contents cannot be changed once the object is created. \n",
    "If you try to modify it, a new object is created instead.\n",
    "\n",
    "Example: Strings, tuples, integers, floats, booleans, frozensets.\n",
    "\n",
    "Once the object is created, you cannot change its value.\n",
    "If you attempt to modify an immutable object, a new object will be created, and the original object remains unchanged.\n",
    "Immutable objects are often used as keys in dictionaries, as their hash value cannot change."
   ]
  },
  {
   "cell_type": "markdown",
   "id": "c8a90938-1169-451c-9514-c5bac73dbf91",
   "metadata": {},
   "source": [
    "Strings: Strings are immutable in Python. Once a string is created, you cannot change its individual characters."
   ]
  },
  {
   "cell_type": "code",
   "execution_count": 4,
   "id": "f97aa4d8-4f34-46d5-aa69-4d124756dbb8",
   "metadata": {},
   "outputs": [
    {
     "name": "stdout",
     "output_type": "stream",
     "text": [
      "hello\n",
      "Hello\n"
     ]
    }
   ],
   "source": [
    "my_str = \"Hello\"\n",
    "# my_str[0] = 'h'  # This would raise a TypeError because strings are immutable\n",
    "new_str = my_str.replace(\"H\", \"h\")  # Creating a new string with the change\n",
    "print(new_str)  # Output: 'hello'\n",
    "print(my_str)   # Output: 'Hello' (original string remains unchanged)"
   ]
  },
  {
   "cell_type": "markdown",
   "id": "a4a62d3e-327a-4c13-9f70-d6f794f102ce",
   "metadata": {},
   "source": [
    "Tuples: Tuples are immutable because their elements cannot be changed once created. You cannot add, modify, or remove elements from a tuple."
   ]
  },
  {
   "cell_type": "code",
   "execution_count": 5,
   "id": "23f5c263-08c0-43bf-baac-ca37a3ddfc4e",
   "metadata": {},
   "outputs": [
    {
     "name": "stdout",
     "output_type": "stream",
     "text": [
      "(1, 2, 3, 4)\n"
     ]
    }
   ],
   "source": [
    "my_tuple = (1, 2, 3)\n",
    "# my_tuple[1] = 4  # This would raise a TypeError\n",
    "new_tuple = my_tuple + (4,)  # Creating a new tuple with an added element\n",
    "print(new_tuple)  # Output: (1, 2, 3, 4)"
   ]
  },
  {
   "cell_type": "markdown",
   "id": "d928319a-692c-4403-9ab4-b289e6e8204f",
   "metadata": {},
   "source": [
    "Integers: Integers are immutable because once an integer object is created, its value cannot be changed. Any operation on an integer creates a new integer object."
   ]
  },
  {
   "cell_type": "code",
   "execution_count": 6,
   "id": "7fbefa45-4006-4ea3-aea4-15d764b17667",
   "metadata": {},
   "outputs": [
    {
     "name": "stdout",
     "output_type": "stream",
     "text": [
      "15\n"
     ]
    }
   ],
   "source": [
    "num = 10\n",
    "num = num + 5  # Creates a new integer object with value 15\n",
    "print(num)  # Output: 15"
   ]
  },
  {
   "cell_type": "markdown",
   "id": "05500554-e5b1-4f4a-837f-25e290850154",
   "metadata": {},
   "source": [
    "Frozensets: Frozensets are immutable versions of sets. You cannot add or remove elements once a frozenset is created."
   ]
  },
  {
   "cell_type": "code",
   "execution_count": 9,
   "id": "ae53423b-a9f5-4456-9697-794864b28f5c",
   "metadata": {},
   "outputs": [],
   "source": [
    "my_frozenset = frozenset([1, 2, 3])\n",
    "# my_frozenset.add(4)"
   ]
  },
  {
   "cell_type": "markdown",
   "id": "3625d8f6-854e-45cc-bac7-14ab51a10609",
   "metadata": {},
   "source": [
    "Describe how dictionaries store data\n",
    "\n",
    "\n",
    "In Python, a dictionary is an unordered collection of key-value pairs, where each key must be unique and is associated with a value. Python dictionaries are highly optimized for looking up values based on their associated keys, making them an essential data structure for many algorithms and applications.\n",
    "\n",
    "Key-Value Pair: A dictionary is made up of pairs, where each key is mapped to a corresponding value.\n",
    "\n",
    "Unordered: In versions of Python prior to 3.7, dictionaries were unordered, meaning there was no guarantee about the order in which the key-value pairs were stored. However, starting from Python 3.7, dictionaries maintain insertion order, meaning that the order in which items are added to the dictionary is preserved when iterating over it.\n",
    "\n",
    "Hashing: Internally, dictionaries use a technique called hashing to store data efficiently. The key is passed through a hash function to compute a hash value, which is then used to determine where to store the value in memory. The value is stored at the location associated with that hash.\n",
    "\n",
    "Hash Function: A hash function takes an input (the key) and returns a fixed-size string or number (the hash). In Python, the hash() function is used for this purpose.\n",
    "Hash Collisions: If two keys generate the same hash value, it's called a hash collision. Python handles collisions by using techniques such as open addressing or linked lists to store multiple items at the same hash location.\n",
    "\n",
    "Dynamic Array (Internal Implementation): Python dictionaries are backed by a dynamic array. This means that the dictionary grows and shrinks dynamically as items are added or removed. The internal array is resized when the dictionary becomes too full or too sparse, ensuring efficient memory usage and fast lookups.\n",
    "\n",
    "Keys Must Be Immutable: The keys in a Python dictionary must be of a type that is immutable and hashable. This includes types like strings, numbers, and tuples. You cannot use mutable types, such as lists or sets, as dictionary keys because they are not hashable and their values can change.\n",
    "\n",
    "Python dictionaries are implemented using hash tables, where keys are hashed to a specific location in memory. This allows for efficient insertion, deletion, and lookup operations (on average O(1) time complexity). Python handles hash collisions and dynamic resizing automatically to maintain performance. The dictionary is an essential and powerful data structure in Python, widely used for tasks that require fast key-based lookup."
   ]
  },
  {
   "cell_type": "markdown",
   "id": "fa26a56c-eefa-45c3-8ae5-f06b248705e0",
   "metadata": {},
   "source": [
    "Why might you use a set instead of a list in Python\n",
    "\n",
    "In Python, both sets and lists are commonly used to store collections of items, but they serve different purposes and have distinct characteristics. Choosing a set over a list is often driven by the requirements of the task at hand. Below are the reasons why you might choose a set instead of a list:\n",
    "\n",
    "\n",
    "Set: A set automatically ensures that all its elements are unique. It will not allow duplicate values.\n",
    "List: A list can contain duplicate elements, meaning the same item can appear multiple times.\n",
    "\n",
    "If you need to store items where duplicates are not allowed (e.g., ensuring that each item in a collection is unique), a set is the appropriate choice."
   ]
  },
  {
   "cell_type": "code",
   "execution_count": 10,
   "id": "310948ec-8018-4a3d-af77-9ebc703a1c1b",
   "metadata": {},
   "outputs": [
    {
     "name": "stdout",
     "output_type": "stream",
     "text": [
      "[1, 2, 3, 3, 4, 5]\n",
      "{1, 2, 3, 4, 5}\n"
     ]
    }
   ],
   "source": [
    "my_list = [1, 2, 3, 3, 4, 5]\n",
    "my_set = {1, 2, 3, 3, 4, 5}\n",
    "\n",
    "print(my_list)  # Output: [1, 2, 3, 3, 4, 5] (duplicates allowed)\n",
    "print(my_set)   # Output: {1, 2, 3, 4, 5} (duplicates removed)"
   ]
  },
  {
   "cell_type": "markdown",
   "id": "020f18b9-f474-46c8-9ede-3c940a9af09f",
   "metadata": {},
   "source": [
    "What is a string in Python, and how is it different from a list\n",
    "\n",
    "\n",
    "A string in Python is a sequence of characters. It is one of the most commonly used data types in Python, and it is typically used to represent text. A string is immutable, meaning that once it is created, its value cannot be changed.\n",
    "\n",
    "Strings in Python are enclosed in either single quotes (') or double quotes (\"). You can also use triple quotes (''' or \"\"\") for multi-line strings.\n",
    "\n",
    "\n",
    "String Characteristics:\n",
    "Immutable: Strings cannot be modified after they are created. If you modify a string, a new string is created.\n",
    "Ordered: Strings are ordered sequences of characters, meaning each character in the string has a specific position or index (starting from 0).\n",
    "Indexable: You can access individual characters in a string using indexing or slicing.\n",
    "Iterable: You can loop over a string (it behaves like an iterable).\n",
    "\n",
    "Operations:\n",
    "\n"
   ]
  },
  {
   "cell_type": "code",
   "execution_count": 11,
   "id": "8307ae9a-861c-4386-bd49-c60146817154",
   "metadata": {},
   "outputs": [],
   "source": [
    "my_string = \"Hello, World!\"\n",
    "# or\n",
    "my_string2 = 'Hello, World!'"
   ]
  },
  {
   "cell_type": "markdown",
   "id": "6f02807a-e544-4a51-bee5-c0e5067fbab1",
   "metadata": {},
   "source": [
    "Indexing: Accessing characters by position."
   ]
  },
  {
   "cell_type": "code",
   "execution_count": 12,
   "id": "8f77c35b-2efb-48f3-a37c-fab2e1654965",
   "metadata": {},
   "outputs": [
    {
     "name": "stdout",
     "output_type": "stream",
     "text": [
      "P\n"
     ]
    }
   ],
   "source": [
    "my_string = \"Python\"\n",
    "print(my_string[0])  # Output: 'P'  (First character)"
   ]
  },
  {
   "cell_type": "markdown",
   "id": "aba94bf2-3121-41da-8363-f90e973b3039",
   "metadata": {},
   "source": [
    "Slicing: Extracting a part of a string."
   ]
  },
  {
   "cell_type": "code",
   "execution_count": 13,
   "id": "955bdf0c-7b93-49c4-88de-23e7a591246f",
   "metadata": {},
   "outputs": [
    {
     "name": "stdout",
     "output_type": "stream",
     "text": [
      "yth\n"
     ]
    }
   ],
   "source": [
    "print(my_string[1:4])  # Output: 'yth' (Characters from index 1 to 3)"
   ]
  },
  {
   "cell_type": "markdown",
   "id": "c79cadf0-d637-4973-a21d-9d0126543061",
   "metadata": {},
   "source": [
    "Concatenation: Combining strings using the + operator."
   ]
  },
  {
   "cell_type": "code",
   "execution_count": null,
   "id": "b9d6d091-66ab-41d2-8a86-5b55b0ff9cec",
   "metadata": {},
   "outputs": [],
   "source": [
    "new_string = \"Hello\" \" + \" \" + \"World\"  # Output: 'Hello World'"
   ]
  },
  {
   "cell_type": "markdown",
   "id": "17a80cac-b754-4820-9f90-553654d9fa9c",
   "metadata": {},
   "source": [
    "How do tuples ensure data integrity in Python\n",
    "\n",
    "A tuple in Python is an immutable sequence of elements. This immutability ensures that once a tuple is created, its data cannot be modified, added to, or removed. This characteristic of tuples provides several key benefits when it comes to ensuring data integrity in your program. Let’s explore how the immutability of tuples guarantees data integrity and why this feature is valuable in various contexts.\n",
    "\n",
    "Key Features of Tuples that Ensure Data Integrity:\n",
    "Immutability:\n",
    "\n",
    "Once a tuple is created, it cannot be changed (i.e., no modifications can be made to its elements).\n",
    "No Additions: You cannot add new elements to a tuple after it's created.\n",
    "No Deletions: You cannot remove elements from a tuple.\n",
    "No Modifications: You cannot change the value of an element in a tuple.\n",
    "This immutability guarantees that the data stored in a tuple remains constant throughout the program’s execution, which is critical when you need to protect the integrity of your data.\n",
    "\n"
   ]
  },
  {
   "cell_type": "code",
   "execution_count": 18,
   "id": "a62ebdea-5dbb-4ef3-88ac-74b41041a02a",
   "metadata": {},
   "outputs": [
    {
     "ename": "TypeError",
     "evalue": "'tuple' object does not support item assignment",
     "output_type": "error",
     "traceback": [
      "\u001b[1;31m---------------------------------------------------------------------------\u001b[0m",
      "\u001b[1;31mTypeError\u001b[0m                                 Traceback (most recent call last)",
      "Cell \u001b[1;32mIn[18], line 3\u001b[0m\n\u001b[0;32m      1\u001b[0m my_tuple \u001b[38;5;241m=\u001b[39m (\u001b[38;5;241m1\u001b[39m, \u001b[38;5;241m2\u001b[39m, \u001b[38;5;241m3\u001b[39m)\n\u001b[0;32m      2\u001b[0m \u001b[38;5;66;03m# The following operations will raise errors:\u001b[39;00m\n\u001b[1;32m----> 3\u001b[0m my_tuple[\u001b[38;5;241m1\u001b[39m] \u001b[38;5;241m=\u001b[39m \u001b[38;5;241m4\u001b[39m      \u001b[38;5;66;03m# TypeError: 'tuple' object does not support item assignment\u001b[39;00m\n\u001b[0;32m      4\u001b[0m my_tuple\u001b[38;5;241m.\u001b[39mappend(\u001b[38;5;241m4\u001b[39m)   \u001b[38;5;66;03m# AttributeError: 'tuple' object has no attribute 'append'\u001b[39;00m\n\u001b[0;32m      5\u001b[0m \u001b[38;5;28;01mdel\u001b[39;00m my_tuple[\u001b[38;5;241m0\u001b[39m]\n",
      "\u001b[1;31mTypeError\u001b[0m: 'tuple' object does not support item assignment"
     ]
    }
   ],
   "source": [
    "my_tuple = (1, 2, 3)\n",
    "# The following operations will raise errors:\n",
    "my_tuple[1] = 4      # TypeError: 'tuple' object does not support item assignment\n",
    "my_tuple.append(4)   # AttributeError: 'tuple' object has no attribute 'append'\n",
    "del my_tuple[0]      # TypeError: 'tuple' object doesn't support item deletion"
   ]
  },
  {
   "cell_type": "markdown",
   "id": "0546c573-4344-4007-a33b-c8300914e040",
   "metadata": {},
   "source": [
    "What is a hash table, and how does it relate to dictionaries in Python\n",
    "\n",
    "A hash table (also known as a hash map) is a data structure that stores key-value pairs and provides efficient access to values based on keys. It uses a hash function to convert a key into an index (or position) in an internal array (or list), where the corresponding value is stored. This allows for fast retrieval, insertion, and deletion of values associated with specific keys.\n",
    "\n",
    "Key Characteristics of a Hash Table:\n",
    "Efficient Lookup: Hash tables provide O(1) average time complexity for lookups (i.e., accessing a value by its key), which makes them ideal for situations where you need fast access to data.\n",
    "Hash Function: The hash function takes a key and computes an index in the underlying array where the value will be stored. The function should ideally distribute keys uniformly across the array to minimize collisions.\n",
    "Collisions: A collision occurs when two different keys hash to the same index. In this case, the hash table uses techniques like chaining (linked lists) or open addressing (finding the next available slot) to resolve the collision.\n",
    "Storage: Hash tables store data in an array-like structure, where each index corresponds to a specific hash value."
   ]
  },
  {
   "cell_type": "markdown",
   "id": "c55472e7-36ce-489e-93df-ba2ec64c57bc",
   "metadata": {},
   "source": [
    "Can lists contain different data types in Python\n",
    "\n",
    "Yes, lists in Python can contain different data types. One of the key features of a Python list is that it is heterogeneous, meaning it can store elements of various types in a single list. Unlike arrays in some other programming languages that require all elements to be of the same type, Python lists allow you to mix and match different data types, such as integers, strings, floating-point numbers, booleans, other lists, and even custom objects."
   ]
  },
  {
   "cell_type": "markdown",
   "id": "ed9c4f85-a25e-4fe7-9d0e-c874b1ddb096",
   "metadata": {},
   "source": [
    "Explain why strings are immutable in Python\n",
    "\n",
    "In Python, strings are immutable. This means that once a string is created, it cannot be changed, modified, or altered in place. If you want to modify a string, you must create a new string with the desired changes. This immutability is an important characteristic of strings in Python and has several implications and reasons behind it.\n",
    "\n",
    "Strings in Python are immutable because it enables various performance optimizations. When an object is immutable, it can be safely shared among multiple references without the risk of one reference modifying the object in an unpredictable way. This is particularly useful when dealing with large amounts of data, as Python can optimize memory usage and access speed for immutable objects like strings.\n",
    "\n",
    "Memory Efficiency: Because strings are immutable, Python can intern strings. String interning is a memory optimization technique where identical strings are stored only once in memory, which reduces memory consumption and makes comparisons faster. Interning ensures that if you have two identical strings, they point to the same memory location rather than creating two separate copies of the same data.\n",
    "\n",
    "Cacheable and Reusable: Immutable objects like strings can be safely cached and reused without the worry that their values might change unexpectedly, leading to more predictable behavior."
   ]
  },
  {
   "cell_type": "markdown",
   "id": "6833ad22-95c4-482b-bf4a-bce35fca7d57",
   "metadata": {},
   "source": [
    "What advantages do dictionaries offer over lists for certain tasks\n",
    "\n",
    "Dictionaries offer several advantages over lists for certain tasks, especially when you need to work with key-value pairs, perform fast lookups, or store data with unique keys. Here are some key reasons why dictionaries are often more suitable than lists for particular tasks:\n",
    "\n",
    "1. Faster Lookups by Key (O(1) Time Complexity)\n",
    "One of the biggest advantages of dictionaries over lists is their lookup time.\n",
    "\n",
    "Dictionaries use a hash table internally, which allows them to retrieve values in constant time (O(1)) when you know the key.\n",
    "In contrast, lists are ordered collections of items and you have to search through the list to find an element. This takes linear time (O(n)) in the worst case."
   ]
  },
  {
   "cell_type": "markdown",
   "id": "9f990c1c-3b8e-4861-8de2-ccff044462fe",
   "metadata": {},
   "source": [
    "Describe a scenario where using a tuple would be preferable over a list\n",
    "\n",
    "\n",
    "Scenario: Using a Tuple Over a List in Python\n",
    "Scenario: Storing Geographic Coordinates (Latitude, Longitude)\n",
    "Imagine you're working with geographic data, such as representing locations on a map. Each location is represented by a pair of coordinates: latitude and longitude. Since these values form a pair that is logically fixed and should not change after creation, a tuple would be a more appropriate data structure than a list.\n",
    "\n",
    "Why a Tuple is Preferable:\n",
    "Immutability:\n",
    "\n",
    "Geographic coordinates (latitude and longitude) are typically fixed once they are assigned, and you don't want these values to be modified accidentally after they are created.\n",
    "Tuples are immutable, meaning their contents cannot be changed once they are set. This ensures that the coordinates cannot be altered by mistake, providing data integrity.\n",
    "Lists, on the other hand, are mutable, so there is a risk of modifying the elements of the list, which could lead to incorrect or unexpected behavior.\n",
    "Performance:\n",
    "\n",
    "Tuples are more memory-efficient and generally faster than lists because they are immutable. Since the structure of a tuple is fixed, the memory allocated for the tuple can be optimized by Python, making it a more efficient choice for storing fixed data.\n",
    "Lists have additional overhead for supporting dynamic resizing, which is unnecessary for data that won’t change.\n",
    "Semantic Meaning:\n",
    "\n",
    "When you store geographic coordinates, using a tuple indicates that the values (latitude and longitude) are meant to remain constant as a pair, which can be semantically clearer than using a list.\n",
    "Tuples are often used when data represents a collection of different elements that should remain together and unchanged (like coordinates, RGB color values, or (x, y) pairs in mathematics).\n",
    "Hashability:\n",
    "\n",
    "Tuples are hashable, which means they can be used as keys in dictionaries or elements in sets, unlike lists, which are mutable and cannot be hashed.\n",
    "If you need to store coordinates in a dictionary or use them in a set to check for uniqueness (such as storing locations in a set), tuples would be the preferred choice."
   ]
  },
  {
   "cell_type": "code",
   "execution_count": 19,
   "id": "6c65ceea-b826-465d-9f85-6c4314a5ee8c",
   "metadata": {},
   "outputs": [
    {
     "name": "stdout",
     "output_type": "stream",
     "text": [
      "Latitude: 40.7128, Longitude: -74.006\n"
     ]
    }
   ],
   "source": [
    "# Defining a tuple to store latitude and longitude\n",
    "location = (40.7128, -74.0060)  # Latitude, Longitude for New York City\n",
    "\n",
    "# Accessing elements\n",
    "latitude = location[0]\n",
    "longitude = location[1]\n",
    "\n",
    "print(f\"Latitude: {latitude}, Longitude: {longitude}\")  \n",
    "# Output: Latitude: 40.7128, Longitude: -74.0060"
   ]
  },
  {
   "cell_type": "markdown",
   "id": "79e538dd-df68-4361-8c69-f4cc687e8402",
   "metadata": {},
   "source": [
    "Using a List for Coordinates (not ideal):"
   ]
  },
  {
   "cell_type": "code",
   "execution_count": 20,
   "id": "3a3517b4-edb9-4dfa-b252-44dc1e3d52e1",
   "metadata": {},
   "outputs": [
    {
     "name": "stdout",
     "output_type": "stream",
     "text": [
      "Latitude: 42.3601, Longitude: -74.006\n"
     ]
    }
   ],
   "source": [
    "# Defining a list to store latitude and longitude\n",
    "location = [40.7128, -74.0060]  # Latitude, Longitude for New York City\n",
    "\n",
    "# Accessing elements\n",
    "latitude = location[0]\n",
    "longitude = location[1]\n",
    "\n",
    "# Modifying the list by accident (this is possible with lists)\n",
    "location[0] = 42.3601  # New latitude (accidental modification)\n",
    "\n",
    "print(f\"Latitude: {location[0]}, Longitude: {location[1]}\")  \n",
    "# Output: Latitude: 42.3601, Longitude: -74.0060 (inadvertently changed the latitude)"
   ]
  },
  {
   "cell_type": "markdown",
   "id": "245669b9-c6f4-4b1a-91ec-01d9be893ad0",
   "metadata": {},
   "source": [
    "Key Points of the Tuple Approach:\n",
    "Immutability: The coordinates remain unchanged, ensuring their integrity.\n",
    "Semantic Correctness: The tuple signifies that the data is a fixed pair (latitude, longitude).\n",
    "Efficiency: Tuples are more memory-efficient and perform better when the data doesn't change.\n",
    "\n",
    "Conclusion:\n",
    "In this scenario, a tuple is the better choice because:\n",
    "\n",
    "Immutability ensures the data cannot be altered once created, maintaining consistency.\n",
    "Performance is optimized, especially when dealing with large datasets of coordinates.\n",
    "Semantic meaning: The tuple clearly indicates that the data is a fixed, ordered collection (like a coordinate pair).\n",
    "Hashability: Tuples can be used as dictionary keys or set elements, allowing you to store locations more efficiently.\n",
    "Whenever you have a collection of data that is logically immutable, a tuple is a natural choice, such as when you're dealing with coordinates, RGB values, or any other data that should remain constant once created."
   ]
  },
  {
   "cell_type": "markdown",
   "id": "5f95f89e-e03a-4bce-ae0f-584fdb1253bf",
   "metadata": {},
   "source": [
    "How do sets handle duplicate values in Python\n",
    "\n",
    "In Python, sets are collections of unique elements, meaning they do not allow duplicate values. If you try to add a duplicate value to a set, the set will automatically ignore the new value and keep only the original one. This behavior makes sets particularly useful when you need to store a collection of items and ensure that each item appears only once.\n",
    "\n",
    "Key Characteristics of Sets:\n",
    "No Duplicates: A set automatically removes duplicate elements when you try to add them. If an element is already in the set, it won’t be added again.\n",
    "Unordered: The elements in a set do not maintain any specific order. If you iterate through a set, the order of elements may not be the same as the order in which they were added.\n",
    "Mutable: Sets are mutable, meaning you can add or remove elements after the set is created.\n",
    "Efficient Membership Tests: Checking if an item is in a set is generally faster than in a list (with average time complexity O(1))."
   ]
  },
  {
   "cell_type": "markdown",
   "id": "4f315495-4f88-4207-8c10-e4716360ee45",
   "metadata": {},
   "source": [
    "How does the “in” keyword work differently for lists and dictionaries\n",
    "\n",
    "The in keyword in Python is used to check for the membership of an element within a collection (like a list, dictionary, set, etc.), but its behavior differs depending on whether you're working with a list or a dictionary.\n",
    "\n",
    "1. Using in with a List\n",
    "When used with a list, the in keyword checks whether a given element exists as a value within the list.\n",
    "\n",
    "It checks if the value is present in the list, and it returns True if the element exists and False if it doesn't.\n",
    "This operation has O(n) time complexity, where n is the length of the list, because Python may need to scan through all the elements to find a match."
   ]
  },
  {
   "cell_type": "code",
   "execution_count": 21,
   "id": "f0df8408-bef5-4632-8330-e7f4709ccbe4",
   "metadata": {},
   "outputs": [
    {
     "name": "stdout",
     "output_type": "stream",
     "text": [
      "True\n",
      "False\n"
     ]
    }
   ],
   "source": [
    "# Example list\n",
    "my_list = [1, 2, 3, 4, 5]\n",
    "\n",
    "# Check if a value exists in the list\n",
    "print(3 in my_list)  # Output: True (3 is in the list)\n",
    "print(6 in my_list)  # Output: False (6 is not in the list)"
   ]
  },
  {
   "cell_type": "markdown",
   "id": "ec22094b-001c-4135-a962-60a60cc04c84",
   "metadata": {},
   "source": [
    " Using in with a Dictionary\n",
    "When used with a dictionary, the in keyword works differently. By default, it checks whether a given key exists in the dictionary, not the value.\n",
    "\n",
    "The in keyword checks whether the key is in the dictionary's keys.\n",
    "This operation has O(1) time complexity on average, because dictionaries are implemented using hash tables, which allow for fast lookups by key."
   ]
  },
  {
   "cell_type": "code",
   "execution_count": 22,
   "id": "ea52fb3a-1c49-4aa2-a65b-393a681ad3d7",
   "metadata": {},
   "outputs": [
    {
     "name": "stdout",
     "output_type": "stream",
     "text": [
      "True\n",
      "False\n"
     ]
    }
   ],
   "source": [
    "# Example dictionary\n",
    "my_dict = {'a': 1, 'b': 2, 'c': 3}\n",
    "\n",
    "# Check if a key exists in the dictionary\n",
    "print('a' in my_dict)  # Output: True ('a' is a key in the dictionary)\n",
    "print('d' in my_dict)  # Output: False ('d' is not a key in the dictionary)"
   ]
  },
  {
   "cell_type": "markdown",
   "id": "a14788f7-6acf-4033-94d2-366c02d399b6",
   "metadata": {},
   "source": [
    "Can you modify the elements of a tuple? Explain why or why note\n",
    "\n",
    "No, you cannot modify the elements of a tuple in Python, and here's why:\n",
    "\n",
    "1. Tuples Are Immutable\n",
    "A tuple is an immutable data structure in Python, meaning that once a tuple is created, its elements cannot be changed, added, or removed. The immutability of tuples is one of their core characteristics, which distinguishes them from lists, which are mutable.\n",
    "\n",
    "2. Why Can't You Modify a Tuple?\n",
    "The main reason you cannot modify a tuple is due to its immutability. This design choice provides several benefits:\n",
    "\n",
    "Data Integrity: Immutability ensures that once a tuple is created, its data cannot be accidentally changed. This can be important in cases where you want to guarantee that the data remains consistent and unchanged throughout the program.\n",
    "\n",
    "Performance: Since tuples are immutable, Python can optimize their memory usage and access speed. It can safely store and share references to tuples without worrying about them being modified elsewhere, which helps improve performance.\n",
    "\n",
    "Hashability: Immutability allows tuples to be used as keys in dictionaries and elements in sets, both of which require the data to be hashable. Mutable data types like lists cannot be used in these contexts because they could change and thus affect the hash value.\n",
    "\n",
    "If you attempt to modify a tuple (for example, trying to change an element), Python will raise a TypeError."
   ]
  },
  {
   "cell_type": "code",
   "execution_count": 23,
   "id": "c1a5ab45-79d4-4364-94a1-f6c20e0cd32c",
   "metadata": {},
   "outputs": [
    {
     "ename": "TypeError",
     "evalue": "'tuple' object does not support item assignment",
     "output_type": "error",
     "traceback": [
      "\u001b[1;31m---------------------------------------------------------------------------\u001b[0m",
      "\u001b[1;31mTypeError\u001b[0m                                 Traceback (most recent call last)",
      "Cell \u001b[1;32mIn[23], line 4\u001b[0m\n\u001b[0;32m      1\u001b[0m my_tuple \u001b[38;5;241m=\u001b[39m (\u001b[38;5;241m1\u001b[39m, \u001b[38;5;241m2\u001b[39m, \u001b[38;5;241m3\u001b[39m)\n\u001b[0;32m      3\u001b[0m \u001b[38;5;66;03m# Attempting to modify an element\u001b[39;00m\n\u001b[1;32m----> 4\u001b[0m my_tuple[\u001b[38;5;241m0\u001b[39m] \u001b[38;5;241m=\u001b[39m \u001b[38;5;241m10\u001b[39m\n",
      "\u001b[1;31mTypeError\u001b[0m: 'tuple' object does not support item assignment"
     ]
    }
   ],
   "source": [
    "my_tuple = (1, 2, 3)\n",
    "\n",
    "# Attempting to modify an element\n",
    "my_tuple[0] = 10  # This will raise a TypeError"
   ]
  },
  {
   "cell_type": "markdown",
   "id": "870a6cef-f0f1-4ba6-b070-7e953e5eaa96",
   "metadata": {},
   "source": [
    "What is a nested dictionary, and give an example of its use case\n",
    "\n",
    "A nested dictionary in Python is a dictionary where the values of some keys are themselves dictionaries. In other words, a dictionary can contain another dictionary as a value. This allows you to represent hierarchical or complex data structures more naturally.\n",
    "\n",
    "In a nested dictionary, you can think of the outer dictionary as a container of key-value pairs, and some of the values can be another dictionary, with its own key-value pairs. This creates a multi-level structure that can be traversed."
   ]
  },
  {
   "cell_type": "markdown",
   "id": "d0532ef2-2af9-4c0e-888e-42bc0a1a25a9",
   "metadata": {},
   "source": [
    "Describe the time complexity of accessing elements in a dictionary\n",
    "\n",
    "\n",
    "\n",
    "In Python, a dictionary is implemented using a hash table, which is a data structure that allows for very efficient lookups, insertions, and deletions. This implementation significantly influences the time complexity of dictionary operations, including accessing elements.\n",
    "\n",
    "1. Accessing an Element by Key\n",
    "The time complexity of accessing an element in a dictionary using a key (i.e., dict[key]) is O(1) on average. This means that, typically, the time to access a value by key does not depend on the size of the dictionary.\n",
    "\n",
    "Why is it O(1)?\n",
    "Hashing: When you access a dictionary element, Python computes a hash value for the key. This hash value determines where the key-value pair is stored in memory.\n",
    "Direct Lookup: The hash table allows for a direct lookup using the hash, meaning that Python can access the key-value pair in constant time, assuming there are no hash collisions (i.e., two keys that hash to the same location)."
   ]
  },
  {
   "cell_type": "code",
   "execution_count": 25,
   "id": "6cdc06d6-675c-4b0b-8954-d2ba1515c149",
   "metadata": {},
   "outputs": [
    {
     "name": "stdout",
     "output_type": "stream",
     "text": [
      "20\n"
     ]
    }
   ],
   "source": [
    "my_dict = {'a': 10, 'b': 20, 'c': 30}\n",
    "\n",
    "# Accessing an element\n",
    "print(my_dict['b'])  # Output: 20"
   ]
  },
  {
   "cell_type": "markdown",
   "id": "ee661b53-0484-44ef-858b-2586b0517342",
   "metadata": {},
   "source": [
    "In what situations are lists preferred over dictionaries\n",
    "\n",
    "While dictionaries are highly efficient for key-based lookups, lists are preferred in situations where the following conditions are met:\n",
    "\n",
    "1. When the Data is Ordered or Sequential\n",
    "Lists maintain the order of elements, meaning the order in which items are inserted is preserved. This is useful when the order of elements matters (for example, when working with sequences, ordered collections, or when you need to maintain the insertion order).\n",
    "Dictionaries (since Python 3.7) also maintain insertion order, but they still use keys for access, which is more suitable for unordered collections where each element is accessed by a unique key.\n",
    "\n",
    "Use Case: If you need to maintain a collection where the elements are accessed in a specific order (e.g., a sequence of events, a list of tasks to be completed in order), lists are preferred.\n",
    "\n",
    "Example: Maintaining a list of students in a class in the order they enrolled."
   ]
  },
  {
   "cell_type": "code",
   "execution_count": 26,
   "id": "96699bad-9a31-4331-978b-b8f6e619eab6",
   "metadata": {},
   "outputs": [
    {
     "name": "stdout",
     "output_type": "stream",
     "text": [
      "John\n",
      "Alice\n",
      "Bob\n",
      "Eva\n"
     ]
    }
   ],
   "source": [
    "students = ['John', 'Alice', 'Bob', 'Eva']\n",
    "for student in students:\n",
    "    print(student)  # Output maintains the enrollment order"
   ]
  },
  {
   "cell_type": "markdown",
   "id": "70380f0b-d833-4c43-a388-d9f3da651358",
   "metadata": {},
   "source": [
    "When You Need to Work with Indices\n",
    "\n",
    "Lists allow access to elements using indices (positions) rather than keys. If you need to frequently access elements by their position in a collection, lists are ideal.\n",
    "Dictionaries, on the other hand, require keys, and there is no inherent concept of order or position (though Python 3.7+ does maintain insertion order, which is more about order than index-based access).\n",
    "\n",
    "Use Case: If you are working with a collection where the elements are indexed and you need to frequently access elements by their position, lists are the natural choice.\n",
    "\n",
    "Example: A list of numbers where you need to access elements by index:"
   ]
  },
  {
   "cell_type": "code",
   "execution_count": 27,
   "id": "8a1b0502-8562-4742-afd1-c0596d09e0c6",
   "metadata": {},
   "outputs": [
    {
     "name": "stdout",
     "output_type": "stream",
     "text": [
      "30\n"
     ]
    }
   ],
   "source": [
    "numbers = [10, 20, 30, 40]\n",
    "print(numbers[2])  # Output: 30 (accessing by index)"
   ]
  },
  {
   "cell_type": "markdown",
   "id": "90a2e70f-5e82-4556-ab0d-5fb2ed763a8a",
   "metadata": {},
   "source": [
    "Why are dictionaries considered unordered, and how does that affect data retrieval\n",
    "\n",
    "In Python versions earlier than 3.7, dictionaries were officially considered unordered collections. However, starting from Python 3.7, dictionaries maintain insertion order. This means that the order of elements in a dictionary is guaranteed to be the same as the order in which items were added.\n",
    "\n",
    "Historical Context of Unordered Dictionaries\n",
    "Before Python 3.7, dictionaries were implemented using hash tables. A hash table uses a hash function to map keys to values, and the placement of these key-value pairs in memory was determined by the hash values. This hashing process didn't guarantee that the order of insertion would be preserved. As a result, dictionaries did not guarantee any order of the items, hence were considered unordered.\n",
    "\n",
    "In other words:\n",
    "\n",
    "The key-value pairs could be stored in any order in memory.\n",
    "There was no predictable relationship between the order in which items were inserted and the order in which they were retrieved.\n",
    "\n",
    "Change in Python 3.7+\n",
    "\n",
    "Starting with Python 3.7, dictionaries preserve the order in which key-value pairs are added. This means:\n",
    "\n",
    "Insertion order is maintained: The order of keys and their associated values will be preserved when iterating through the dictionary.\n",
    "However, this does not mean that dictionaries are ordered collections in the same way that lists or tuples are. The primary purpose of a dictionary remains as a key-value mapping, and the order is a secondary feature rather than the main focus.\n",
    "\n",
    "Impact on Data Retrieval\n",
    "\n",
    "The behavior of unordered dictionaries before Python 3.7 and ordered dictionaries from Python 3.7 onward affects how data is retrieved in certain situations:\n",
    "\n",
    "Before Python 3.7 (Unordered Dictionaries)\n",
    "Iteration: The order in which items are retrieved from the dictionary (when you iterate over it) was not guaranteed.\n",
    "Data Retrieval: Accessing a value using a key (e.g., dict[key]) was still O(1) (constant time) for lookups, so retrieval of data based on the key was efficient, but the order of items in the dictionary when iterating over it was not predictable.\n",
    "Key-Value Pair Insertion: Although the insertion of key-value pairs would be efficient, their order could appear random when iterating through the dictionary.\n",
    "\n"
   ]
  },
  {
   "cell_type": "markdown",
   "id": "3b7ab14b-21ea-4898-a59a-66df70fdb1ae",
   "metadata": {},
   "source": [
    "Explain the difference between a list and a dictionary in terms of data retrieval.\n",
    "\n",
    "In Python, lists and dictionaries are both used to store collections of data, but they serve different purposes and are optimized for different types of data retrieval. Here’s a breakdown of how they differ in terms of data retrieval:\n",
    "\n",
    "1. Data Structure and Access Mechanism\n",
    "List\n",
    "A list is an ordered collection of elements, indexed by integer positions (starting from 0).\n",
    "Data in a list is accessed by indexing, where you use the index of an element to retrieve its value.\n",
    "The elements are stored in a specific order, and you can access them sequentially or randomly based on the index."
   ]
  },
  {
   "cell_type": "code",
   "execution_count": 28,
   "id": "dd7566f4-bb55-44fd-85a9-5d459a1dd4c0",
   "metadata": {},
   "outputs": [
    {
     "name": "stdout",
     "output_type": "stream",
     "text": [
      "banana\n"
     ]
    }
   ],
   "source": [
    "my_list = ['apple', 'banana', 'cherry']\n",
    "print(my_list[1])  # Output: 'banana'"
   ]
  },
  {
   "cell_type": "markdown",
   "id": "578258f1-eaf4-4ffa-b927-b003fafecf47",
   "metadata": {},
   "source": [
    "Write a code to create a string with your name and print it"
   ]
  },
  {
   "cell_type": "code",
   "execution_count": 2,
   "id": "8d326342-e126-4788-8065-38042e04328a",
   "metadata": {},
   "outputs": [
    {
     "name": "stdout",
     "output_type": "stream",
     "text": [
      "Aziz\n"
     ]
    }
   ],
   "source": [
    "my_name = \"Aziz\"\n",
    "\n",
    "# Print the string\n",
    "print(my_name)"
   ]
  },
  {
   "cell_type": "markdown",
   "id": "ddb20a01-7121-4e53-899b-16139060e26e",
   "metadata": {},
   "source": [
    "Write a code to find the length of the string \"Hello World\""
   ]
  },
  {
   "cell_type": "code",
   "execution_count": 3,
   "id": "d2c22982-b115-4c96-aceb-0debbeee5d48",
   "metadata": {},
   "outputs": [
    {
     "name": "stdout",
     "output_type": "stream",
     "text": [
      "The length of the string is: 11\n"
     ]
    }
   ],
   "source": [
    "my_string = \"Hello World\"\n",
    "\n",
    "# Find the length of the string\n",
    "length_of_string = len(my_string)\n",
    "\n",
    "# Print the length\n",
    "print(\"The length of the string is:\", length_of_string)"
   ]
  },
  {
   "cell_type": "markdown",
   "id": "a6b79426-8b2e-4537-a9a3-294afe6086c5",
   "metadata": {},
   "source": [
    "Write a code to slice the first 3 characters from the string \"Python Programming\""
   ]
  },
  {
   "cell_type": "code",
   "execution_count": 4,
   "id": "276b03e0-b0ea-41e1-ab1f-0a8bec3ae8ee",
   "metadata": {},
   "outputs": [
    {
     "name": "stdout",
     "output_type": "stream",
     "text": [
      "Pyt\n"
     ]
    }
   ],
   "source": [
    "my_string = \"Python Programming\"\n",
    "\n",
    "# Slice the first 3 characters\n",
    "sliced_string = my_string[:3]\n",
    "\n",
    "# Print the sliced string\n",
    "print(sliced_string)"
   ]
  },
  {
   "cell_type": "markdown",
   "id": "1f620703-4d36-488e-9a2e-12dda6b71377",
   "metadata": {},
   "source": [
    "Write a code to convert the string \"hello\" to uppercase"
   ]
  },
  {
   "cell_type": "code",
   "execution_count": 5,
   "id": "0e8ac433-ad5b-4f53-b94d-d34dc977d90c",
   "metadata": {},
   "outputs": [
    {
     "name": "stdout",
     "output_type": "stream",
     "text": [
      "HELLO\n"
     ]
    }
   ],
   "source": [
    "# Define the string\n",
    "my_string = \"hello\"\n",
    "\n",
    "# Convert the string to uppercase\n",
    "uppercase_string = my_string.upper()\n",
    "\n",
    "# Print the uppercase string\n",
    "print(uppercase_string)"
   ]
  },
  {
   "cell_type": "markdown",
   "id": "dd688caa-0090-4abb-8399-e190eea4e0de",
   "metadata": {},
   "source": [
    "Write a code to replace the word \"apple\" with \"orange\" in the string \"I like apple\""
   ]
  },
  {
   "cell_type": "code",
   "execution_count": 6,
   "id": "810bec78-8a0e-4944-96c7-5a763b1feed5",
   "metadata": {},
   "outputs": [
    {
     "name": "stdout",
     "output_type": "stream",
     "text": [
      "I like orange\n"
     ]
    }
   ],
   "source": [
    "# Define the string\n",
    "my_string = \"I like apple\"\n",
    "\n",
    "# Replace 'apple' with 'orange'\n",
    "updated_string = my_string.replace(\"apple\", \"orange\")\n",
    "\n",
    "# Print the updated string\n",
    "print(updated_string)"
   ]
  },
  {
   "cell_type": "markdown",
   "id": "13c84172-ed32-4a18-9ccc-7c56168aac5c",
   "metadata": {},
   "source": [
    "Write a code to create a list with numbers 1 to 5 and print it"
   ]
  },
  {
   "cell_type": "code",
   "execution_count": 7,
   "id": "70ae3879-2587-4bd5-86ea-cc82c39d4944",
   "metadata": {},
   "outputs": [
    {
     "name": "stdout",
     "output_type": "stream",
     "text": [
      "[1, 2, 3, 4, 5]\n"
     ]
    }
   ],
   "source": [
    "# Create a list with numbers 1 to 5\n",
    "my_list = [1, 2, 3, 4, 5]\n",
    "\n",
    "# Print the list\n",
    "print(my_list)"
   ]
  },
  {
   "cell_type": "markdown",
   "id": "5aa8f55a-21f4-4e18-8e06-e0a39cdc77fe",
   "metadata": {},
   "source": [
    "Write a code to append the number 10 to the list [1, 2, 3, 4]"
   ]
  },
  {
   "cell_type": "code",
   "execution_count": 8,
   "id": "9aa177ac-0682-4a46-bcd1-8a0867784cb6",
   "metadata": {},
   "outputs": [
    {
     "name": "stdout",
     "output_type": "stream",
     "text": [
      "[1, 2, 3, 4, 10]\n"
     ]
    }
   ],
   "source": [
    "# Define the list\n",
    "my_list = [1, 2, 3, 4]\n",
    "\n",
    "# Append the number 10 to the list\n",
    "my_list.append(10)\n",
    "\n",
    "# Print the updated list\n",
    "print(my_list)"
   ]
  },
  {
   "cell_type": "markdown",
   "id": "0abb3f7d-88a2-41e1-b537-97c397cd5ca6",
   "metadata": {},
   "source": [
    "E Write a code to remove the number 3 from the list [1, 2, 3, 4, 5]"
   ]
  },
  {
   "cell_type": "code",
   "execution_count": 9,
   "id": "642fa073-ec49-4c7f-879a-e1e37ad78a30",
   "metadata": {},
   "outputs": [
    {
     "name": "stdout",
     "output_type": "stream",
     "text": [
      "[1, 2, 4, 5]\n"
     ]
    }
   ],
   "source": [
    "# Define the list\n",
    "my_list = [1, 2, 3, 4, 5]\n",
    "\n",
    "# Remove the number 3 from the list\n",
    "my_list.remove(3)\n",
    "\n",
    "# Print the updated list\n",
    "print(my_list)"
   ]
  },
  {
   "cell_type": "markdown",
   "id": "8cba8710-8a10-49fc-996f-67e985a5ff3b",
   "metadata": {},
   "source": [
    "Write a code to access the second element in the list ['a', 'b', 'c', 'd']"
   ]
  },
  {
   "cell_type": "code",
   "execution_count": 10,
   "id": "6f943a91-c835-4adf-9131-08d4920a45a4",
   "metadata": {},
   "outputs": [
    {
     "name": "stdout",
     "output_type": "stream",
     "text": [
      "b\n"
     ]
    }
   ],
   "source": [
    "# Define the list\n",
    "my_list = ['a', 'b', 'c', 'd']\n",
    "\n",
    "# Access the second element (index 1)\n",
    "second_element = my_list[1]\n",
    "\n",
    "# Print the second element\n",
    "print(second_element)"
   ]
  },
  {
   "cell_type": "markdown",
   "id": "c7a3ebe4-bd0c-459e-9ad9-bd8a847797ae",
   "metadata": {},
   "source": [
    "Write a code to reverse the list [10, 20, 30, 40, 50]."
   ]
  },
  {
   "cell_type": "code",
   "execution_count": 11,
   "id": "057cc402-5b9d-4dbe-9f32-c2314faf99b4",
   "metadata": {},
   "outputs": [
    {
     "name": "stdout",
     "output_type": "stream",
     "text": [
      "[50, 40, 30, 20, 10]\n"
     ]
    }
   ],
   "source": [
    "# Define the list\n",
    "my_list = [10, 20, 30, 40, 50]\n",
    "\n",
    "# Reverse the list using slicing\n",
    "reversed_list = my_list[::-1]\n",
    "\n",
    "# Print the reversed list\n",
    "print(reversed_list)"
   ]
  },
  {
   "cell_type": "markdown",
   "id": "6a47b69f-2024-4223-b5ee-ac4ca5d10573",
   "metadata": {},
   "source": [
    "Write a code to create a tuple with the elements 10, 20, 30 and print it"
   ]
  },
  {
   "cell_type": "code",
   "execution_count": 12,
   "id": "46d27116-b5b7-48fd-b775-1cbdc34115c9",
   "metadata": {},
   "outputs": [
    {
     "name": "stdout",
     "output_type": "stream",
     "text": [
      "(10, 20, 30)\n"
     ]
    }
   ],
   "source": [
    "# Create a tuple with the elements 10, 20, and 30\n",
    "my_tuple = (10, 20, 30)\n",
    "\n",
    "# Print the tuple\n",
    "print(my_tuple)"
   ]
  },
  {
   "cell_type": "markdown",
   "id": "c22d9cbd-f392-4233-aa06-cd72ede04eeb",
   "metadata": {},
   "source": [
    "Write a code to access the first element of the tuple ('apple', 'banana', 'cherry')."
   ]
  },
  {
   "cell_type": "code",
   "execution_count": 13,
   "id": "929e347a-8230-4e65-9c1f-aa00f053ad07",
   "metadata": {},
   "outputs": [
    {
     "name": "stdout",
     "output_type": "stream",
     "text": [
      "apple\n"
     ]
    }
   ],
   "source": [
    "# Define the tuple\n",
    "my_tuple = ('apple', 'banana', 'cherry')\n",
    "\n",
    "# Access the first element (index 0)\n",
    "first_element = my_tuple[0]\n",
    "\n",
    "# Print the first element\n",
    "print(first_element)"
   ]
  },
  {
   "cell_type": "markdown",
   "id": "717f60e6-625a-4eeb-a2bb-84a1ee9b846b",
   "metadata": {},
   "source": [
    "Write a code to count how many times the number 2 appears in the tuple (1, 2, 3, 2, 4, 2)."
   ]
  },
  {
   "cell_type": "code",
   "execution_count": 14,
   "id": "8fc1deb2-2326-4933-9855-36ffced0ecf7",
   "metadata": {},
   "outputs": [
    {
     "name": "stdout",
     "output_type": "stream",
     "text": [
      "3\n"
     ]
    }
   ],
   "source": [
    "# Define the tuple\n",
    "my_tuple = (1, 2, 3, 2, 4, 2)\n",
    "\n",
    "# Count how many times the number 2 appears in the tuple\n",
    "count_of_2 = my_tuple.count(2)\n",
    "\n",
    "# Print the result\n",
    "print(count_of_2)"
   ]
  },
  {
   "cell_type": "markdown",
   "id": "245575c1-7de9-46fb-94e6-0735c332fb69",
   "metadata": {},
   "source": [
    "Write a code to find the index of the element \"cat\" in the tuple ('dog', 'cat', 'rabbit')."
   ]
  },
  {
   "cell_type": "code",
   "execution_count": 15,
   "id": "af7969d3-1169-4837-be46-b200aebd7d56",
   "metadata": {},
   "outputs": [
    {
     "name": "stdout",
     "output_type": "stream",
     "text": [
      "1\n"
     ]
    }
   ],
   "source": [
    "# Define the tuple\n",
    "my_tuple = ('dog', 'cat', 'rabbit')\n",
    "\n",
    "# Find the index of the element \"cat\"\n",
    "index_of_cat = my_tuple.index('cat')\n",
    "\n",
    "# Print the result\n",
    "print(index_of_cat)"
   ]
  },
  {
   "cell_type": "markdown",
   "id": "d79cb051-39d0-4e33-95c4-dad6d7192e94",
   "metadata": {},
   "source": [
    "Write a code to check if the element \"banana\" is in the tuple ('apple', 'orange', 'banana')."
   ]
  },
  {
   "cell_type": "code",
   "execution_count": 16,
   "id": "dcbcd24c-a18a-4812-8583-56c86b2db044",
   "metadata": {},
   "outputs": [
    {
     "name": "stdout",
     "output_type": "stream",
     "text": [
      "True\n"
     ]
    }
   ],
   "source": [
    "# Define the tuple\n",
    "my_tuple = ('apple', 'orange', 'banana')\n",
    "\n",
    "# Check if \"banana\" is in the tuple\n",
    "is_banana_in_tuple = 'banana' in my_tuple\n",
    "\n",
    "# Print the result\n",
    "print(is_banana_in_tuple)"
   ]
  },
  {
   "cell_type": "markdown",
   "id": "2233ce2a-77f7-464d-a036-8509b7336fdb",
   "metadata": {},
   "source": [
    "Write a code to create a set with the elements 1, 2, 3, 4, 5 and print it."
   ]
  },
  {
   "cell_type": "code",
   "execution_count": 17,
   "id": "df9f5a3f-a5a7-4b2e-8fb3-324929da5619",
   "metadata": {},
   "outputs": [
    {
     "name": "stdout",
     "output_type": "stream",
     "text": [
      "{1, 2, 3, 4, 5}\n"
     ]
    }
   ],
   "source": [
    "# Create a set with the elements 1, 2, 3, 4, 5\n",
    "my_set = {1, 2, 3, 4, 5}\n",
    "\n",
    "# Print the set\n",
    "print(my_set)"
   ]
  },
  {
   "cell_type": "markdown",
   "id": "dc4747e1-cff8-478f-b02c-cd62ecdc7457",
   "metadata": {},
   "source": [
    "Write a code to add the element 6 to the set {1, 2, 3, 4}."
   ]
  },
  {
   "cell_type": "code",
   "execution_count": 18,
   "id": "3b82444f-a063-49cc-a178-5d4fd9a3815a",
   "metadata": {},
   "outputs": [
    {
     "name": "stdout",
     "output_type": "stream",
     "text": [
      "{1, 2, 3, 4, 6}\n"
     ]
    }
   ],
   "source": [
    "# Define the set\n",
    "my_set = {1, 2, 3, 4}\n",
    "\n",
    "# Add the element 6 to the set\n",
    "my_set.add(6)\n",
    "\n",
    "# Print the updated set\n",
    "print(my_set)"
   ]
  },
  {
   "cell_type": "markdown",
   "id": "04ea3a96-de23-4752-89d7-8e36182f6935",
   "metadata": {},
   "source": [
    "Write a code to create a tuple with the elements 10, 20, 30 and print it."
   ]
  },
  {
   "cell_type": "code",
   "execution_count": 19,
   "id": "0834720d-c338-4740-b3fb-3e6b6a4afcc6",
   "metadata": {},
   "outputs": [
    {
     "name": "stdout",
     "output_type": "stream",
     "text": [
      "(10, 20, 30)\n"
     ]
    }
   ],
   "source": [
    "# Create a tuple with the elements 10, 20, 30\n",
    "my_tuple = (10, 20, 30)\n",
    "\n",
    "# Print the tuple\n",
    "print(my_tuple)"
   ]
  },
  {
   "cell_type": "markdown",
   "id": "ba85ac42-c5b5-42f0-b958-395596451d60",
   "metadata": {},
   "source": [
    "Write a code to access the first element of the tuple ('apple', 'banana', 'cherry')."
   ]
  },
  {
   "cell_type": "code",
   "execution_count": 20,
   "id": "e0578737-26f9-40b8-890a-21b637089ee4",
   "metadata": {},
   "outputs": [
    {
     "name": "stdout",
     "output_type": "stream",
     "text": [
      "apple\n"
     ]
    }
   ],
   "source": [
    "# Define the tuple\n",
    "my_tuple = ('apple', 'banana', 'cherry')\n",
    "\n",
    "# Access the first element (index 0)\n",
    "first_element = my_tuple[0]\n",
    "\n",
    "# Print the first element\n",
    "print(first_element)"
   ]
  },
  {
   "cell_type": "markdown",
   "id": "f45c7190-6e1b-4370-b0fe-ea74934f9271",
   "metadata": {},
   "source": [
    "Write a code to count how many times the number 2 appears in the tuple (1, 2, 3, 2, 4, 2)."
   ]
  },
  {
   "cell_type": "code",
   "execution_count": 21,
   "id": "64a1f616-2b79-4acb-9fac-9feea2c78e1e",
   "metadata": {},
   "outputs": [
    {
     "name": "stdout",
     "output_type": "stream",
     "text": [
      "3\n"
     ]
    }
   ],
   "source": [
    "# Define the tuple\n",
    "my_tuple = (1, 2, 3, 2, 4, 2)\n",
    "\n",
    "# Count how many times the number 2 appears in the tuple\n",
    "count_of_2 = my_tuple.count(2)\n",
    "\n",
    "# Print the result\n",
    "print(count_of_2)"
   ]
  },
  {
   "cell_type": "markdown",
   "id": "b953951d-87f2-4003-9f95-ae8de81fef5a",
   "metadata": {},
   "source": [
    "Write a code to find the index of the element \"cat\" in the tuple ('dog', 'cat', 'rabbit')."
   ]
  },
  {
   "cell_type": "code",
   "execution_count": 22,
   "id": "447e1210-b4b7-4abe-9725-d48f7339e643",
   "metadata": {},
   "outputs": [
    {
     "name": "stdout",
     "output_type": "stream",
     "text": [
      "1\n"
     ]
    }
   ],
   "source": [
    "# Define the tuple\n",
    "my_tuple = ('dog', 'cat', 'rabbit')\n",
    "\n",
    "# Find the index of the element \"cat\"\n",
    "index_of_cat = my_tuple.index('cat')\n",
    "\n",
    "# Print the result\n",
    "print(index_of_cat)"
   ]
  },
  {
   "cell_type": "markdown",
   "id": "c26cb036-3b40-45f2-ba06-322350956cfe",
   "metadata": {},
   "source": [
    "Write a code to check if the element \"banana\" is in the tuple ('apple', 'orange', 'banana')."
   ]
  },
  {
   "cell_type": "code",
   "execution_count": 23,
   "id": "3ef22b10-d8f4-4181-9fd4-05f94cbccd53",
   "metadata": {},
   "outputs": [
    {
     "name": "stdout",
     "output_type": "stream",
     "text": [
      "True\n"
     ]
    }
   ],
   "source": [
    "# Define the tuple\n",
    "my_tuple = ('apple', 'orange', 'banana')\n",
    "\n",
    "# Check if \"banana\" is in the tuple\n",
    "is_banana_in_tuple = 'banana' in my_tuple\n",
    "\n",
    "# Print the result\n",
    "print(is_banana_in_tuple)"
   ]
  },
  {
   "cell_type": "markdown",
   "id": "5a9da60a-0b0c-4ce1-8c75-a85927564b33",
   "metadata": {},
   "source": [
    "Write a code to create a set with the elements 1, 2, 3, 4, 5 and print it"
   ]
  },
  {
   "cell_type": "code",
   "execution_count": 24,
   "id": "cdbea917-c1dc-481c-882e-632906ed9a95",
   "metadata": {},
   "outputs": [
    {
     "name": "stdout",
     "output_type": "stream",
     "text": [
      "{1, 2, 3, 4, 5}\n"
     ]
    }
   ],
   "source": [
    "# Create a set with the elements 1, 2, 3, 4, 5\n",
    "my_set = {1, 2, 3, 4, 5}\n",
    "\n",
    "# Print the set\n",
    "print(my_set)"
   ]
  },
  {
   "cell_type": "markdown",
   "id": "b160cf07-8ff7-4afb-9dbd-07fa45b1e6e2",
   "metadata": {},
   "source": [
    "Write a code to add the element 6 to the set {1, 2, 3, 4}."
   ]
  },
  {
   "cell_type": "code",
   "execution_count": 25,
   "id": "9ea23572-b8c0-48d3-a691-3c80020e38d5",
   "metadata": {},
   "outputs": [
    {
     "name": "stdout",
     "output_type": "stream",
     "text": [
      "{1, 2, 3, 4, 6}\n"
     ]
    }
   ],
   "source": [
    "# Define the set\n",
    "my_set = {1, 2, 3, 4}\n",
    "\n",
    "# Add the element 6 to the set\n",
    "my_set.add(6)\n",
    "\n",
    "# Print the updated set\n",
    "print(my_set)"
   ]
  },
  {
   "cell_type": "code",
   "execution_count": null,
   "id": "66029823-f07b-4c76-98a5-b10cecfa681f",
   "metadata": {},
   "outputs": [],
   "source": []
  }
 ],
 "metadata": {
  "kernelspec": {
   "display_name": "Python 3 (ipykernel)",
   "language": "python",
   "name": "python3"
  },
  "language_info": {
   "codemirror_mode": {
    "name": "ipython",
    "version": 3
   },
   "file_extension": ".py",
   "mimetype": "text/x-python",
   "name": "python",
   "nbconvert_exporter": "python",
   "pygments_lexer": "ipython3",
   "version": "3.12.7"
  }
 },
 "nbformat": 4,
 "nbformat_minor": 5
}
